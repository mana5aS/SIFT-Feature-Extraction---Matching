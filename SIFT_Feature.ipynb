{
  "nbformat": 4,
  "nbformat_minor": 0,
  "metadata": {
    "colab": {
      "name": "SIFT_Feature.ipynb",
      "provenance": [],
      "mount_file_id": "1lZgLiRPlrEetlIGEtcfz3fwNckwGk9N4",
      "authorship_tag": "ABX9TyP9hKQiyKpENBS8lkg2yoM3",
      "include_colab_link": true
    },
    "kernelspec": {
      "name": "python3",
      "display_name": "Python 3"
    },
    "language_info": {
      "name": "python"
    }
  },
  "cells": [
    {
      "cell_type": "markdown",
      "metadata": {
        "id": "view-in-github",
        "colab_type": "text"
      },
      "source": [
        "<a href=\"https://colab.research.google.com/github/mana5aS/SIFT-Feature-Extraction-Matching/blob/main/SIFT_Feature.ipynb\" target=\"_parent\"><img src=\"https://colab.research.google.com/assets/colab-badge.svg\" alt=\"Open In Colab\"/></a>"
      ]
    },
    {
      "cell_type": "code",
      "source": [
        "import numpy as np\n",
        "import cv2 as cv\n",
        "from matplotlib import pyplot as plt"
      ],
      "metadata": {
        "id": "10WP-A_DTbkY"
      },
      "execution_count": 1,
      "outputs": []
    },
    {
      "cell_type": "code",
      "execution_count": null,
      "metadata": {
        "id": "DbXHZ8qdTYpt"
      },
      "outputs": [],
      "source": [
        "!pip install opencv-contrib-python==4.5.5.62 "
      ]
    },
    {
      "cell_type": "code",
      "source": [
        "from google.colab import drive\n",
        "drive.mount('/content/drive', force_remount=True)\n",
        "\n",
        "# Add path to the dataset in the drive\n",
        "path = ' '"
      ],
      "metadata": {
        "id": "JTGi9JX3UyU3"
      },
      "execution_count": null,
      "outputs": []
    },
    {
      "cell_type": "code",
      "source": [
        "\"\"\"Noisy Image\"\"\"\n",
        "\n",
        "def create_SNP(image):  \n",
        "    row,col = image.shape\n",
        "    s_vs_p = 0.5\n",
        "    amount = 0.04\n",
        "    out = np.copy(image)\n",
        "\n",
        "    # Salt Noise\n",
        "    num_salt = np.ceil(amount * image.size * s_vs_p)\n",
        "    coords = [np.random.randint(0, i - 1, int(num_salt)) for i in image.shape]\n",
        "    out[coords] = 1\n",
        "    \n",
        "    # Pepper Noise\n",
        "    num_pepper = np.ceil(amount* image.size * (1. - s_vs_p))\n",
        "    coords = [np.random.randint(0, i - 1, int(num_pepper)) for i in image.shape]\n",
        "    out[coords] = 0\n",
        "    \n",
        "    cv.imwrite(path + 'LennaSNP.jpeg', out)\n",
        "    \n",
        "    return out"
      ],
      "metadata": {
        "id": "RAk9211VT4Zr"
      },
      "execution_count": 16,
      "outputs": []
    },
    {
      "cell_type": "code",
      "source": [
        "\"\"\"Rotated Image\"\"\"\n",
        "def create_ROT(img):\n",
        "    num_rows, num_cols = img.shape[:2]\n",
        "    \n",
        "    rotation_matrix = cv.getRotationMatrix2D((num_cols/2, num_rows/2), 30, 1)\n",
        "    img_rotation = cv.warpAffine(img, rotation_matrix, (num_cols, num_rows))\n",
        "    \n",
        "    cv.imwrite(path + 'LennaROT.jpeg', img_rotation)\n",
        "    \n",
        "    return img_rotation"
      ],
      "metadata": {
        "id": "dfGXH75rT7YR"
      },
      "execution_count": 5,
      "outputs": []
    },
    {
      "cell_type": "code",
      "source": [
        "\"\"\"Feature Extraction\"\"\"\n",
        "def display_SIFT(img):\n",
        "    sift = cv.xfeatures2d.SIFT_create()\n",
        "    kp, des = sift.detectAndCompute(img, None)\n",
        "    img_kp = cv.drawKeypoints(img, kp, img)\n",
        "    \n",
        "    #plt.figure(figsize=(15, 15))\n",
        "    plt.figure(figsize=(5, 5))\n",
        "    plt.imshow(img_kp)\n",
        "    plt.show()"
      ],
      "metadata": {
        "id": "ABc3doAoUBH-"
      },
      "execution_count": 29,
      "outputs": []
    },
    {
      "cell_type": "code",
      "source": [
        "\"\"\"Feature Matching\"\"\"\n",
        "def match_features(img1, img2):\n",
        "    \n",
        "    sift = cv.xfeatures2d.SIFT_create()\n",
        "    kp1, des1 = sift.detectAndCompute(img1,None)\n",
        "    kp2, des2 = sift.detectAndCompute(img2,None)\n",
        "    \n",
        "    # BFMatcher with default params\n",
        "    bf = cv.BFMatcher()\n",
        "    matches = bf.knnMatch(des1,des2, k=2)\n",
        "    \n",
        "    # Apply ratio test\n",
        "    good = []\n",
        "    for m,n in matches:\n",
        "        if m.distance < 0.65*n.distance:\n",
        "            good.append([m])\n",
        "    \n",
        "    # cv2.drawMatchesKnn expects list of lists as matches.\n",
        "    img3 = cv.drawMatchesKnn(img1,kp1,img2,kp2,good,img2, flags = 2)\n",
        "\n",
        "    return img3"
      ],
      "metadata": {
        "id": "hhmLZZdJT9l8"
      },
      "execution_count": 22,
      "outputs": []
    },
    {
      "cell_type": "code",
      "source": [
        "\"\"\"Main Function\"\"\"\n",
        "\n",
        "img1 = cv.imread(path + 'Lenna.png') \n",
        "gray_img = cv.cvtColor(img1, cv.COLOR_RGB2GRAY)\n",
        "print(img1.shape)    \n",
        "img2 = create_SNP(gray_img) \n",
        "img3 = create_ROT(gray_img)\n",
        "\n",
        "# Feature extraction \n",
        "display_SIFT(gray_img)\n",
        "display_SIFT(img2)\n",
        "display_SIFT(img3)\n",
        "\n",
        "# Feature Matching \n",
        "plt.figure(figsize=(10, 10))\n",
        "match_img1 = match_features(gray_img, img2)\n",
        "plt.imshow(match_img1)\n",
        "\n",
        "plt.figure(figsize=(10, 10))\n",
        "match_img2 = match_features(gray_img, img3)\n",
        "plt.imshow(match_img2)\n",
        "plt.show()\n"
      ],
      "metadata": {
        "id": "IY69ndrwUENk"
      },
      "execution_count": null,
      "outputs": []
    }
  ]
}